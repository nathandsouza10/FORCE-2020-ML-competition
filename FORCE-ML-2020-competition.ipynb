{
 "cells": [
  {
   "cell_type": "markdown",
   "id": "ab92c36c",
   "metadata": {},
   "source": [
    "## Import Packages"
   ]
  },
  {
   "cell_type": "code",
   "execution_count": 3,
   "id": "235598f7",
   "metadata": {},
   "outputs": [],
   "source": [
    "import pandas as pd\n",
    "import numpy as np"
   ]
  },
  {
   "cell_type": "markdown",
   "id": "a61930f3",
   "metadata": {},
   "source": [
    "## Import data"
   ]
  },
  {
   "cell_type": "code",
   "execution_count": 8,
   "id": "7bfe2cce",
   "metadata": {},
   "outputs": [
    {
     "data": {
      "text/plain": "12"
     },
     "execution_count": 8,
     "metadata": {},
     "output_type": "execute_result"
    }
   ],
   "source": [
    "train_df = pd.read_csv('./train/train.csv', sep=';')\n",
    "len(train_df['FORCE_2020_LITHOFACIES_LITHOLOGY'].unique())"
   ]
  },
  {
   "cell_type": "markdown",
   "id": "77230e1e",
   "metadata": {},
   "source": [
    "## Handling missing values"
   ]
  },
  {
   "cell_type": "code",
   "execution_count": 14,
   "id": "a248e6ce",
   "metadata": {},
   "outputs": [
    {
     "data": {
      "text/plain": [
       "WELL                                       0\n",
       "DEPTH_MD                                   0\n",
       "X_LOC                                  10775\n",
       "Y_LOC                                  10775\n",
       "Z_LOC                                  10775\n",
       "GROUP                                   1278\n",
       "FORMATION                             136994\n",
       "CALI                                   87877\n",
       "RSHA                                  539861\n",
       "RMED                                   38993\n",
       "RDEP                                   11015\n",
       "RHOB                                  161269\n",
       "GR                                         0\n",
       "SGR                                  1101158\n",
       "NPHI                                  405102\n",
       "PEF                                   498819\n",
       "DTC                                    80863\n",
       "SP                                    306264\n",
       "BS                                    487854\n",
       "ROP                                   635440\n",
       "DTS                                   995898\n",
       "DCAL                                  871678\n",
       "DRHO                                  182654\n",
       "MUDWEIGHT                             854360\n",
       "RMIC                                  994351\n",
       "ROPA                                  978186\n",
       "RXO                                   843084\n",
       "FORCE_2020_LITHOFACIES_LITHOLOGY           0\n",
       "FORCE_2020_LITHOFACIES_CONFIDENCE        179\n",
       "dtype: int64"
      ]
     },
     "execution_count": 14,
     "metadata": {},
     "output_type": "execute_result"
    }
   ],
   "source": [
    "train_df.isna().sum()"
   ]
  },
  {
   "cell_type": "code",
   "execution_count": null,
   "id": "168588f7",
   "metadata": {},
   "outputs": [],
   "source": [
    "from sklearn.neighbors import KNeighborsRegressor\n",
    "import pandas as pd\n",
    "\n",
    "\n",
    "missing_columns = ['column1', 'column2']\n",
    "\n",
    "# Split the data into two parts: one with missing values and one without\n",
    "data_missing = data[data[missing_columns].isnull().any(axis=1)]\n",
    "data_not_missing = data.dropna(subset=missing_columns)\n",
    "\n",
    "# Train a KNN model on the data without missing values\n",
    "k = 5\n",
    "knn = KNeighborsRegressor(n_neighbors=k)\n",
    "knn.fit(data_not_missing.drop(missing_columns, axis=1), data_not_missing[missing_columns])\n",
    "\n",
    "# Predict the missing values using the KNN model\n",
    "imputed_values = knn.predict(data_missing.drop(missing_columns, axis=1))\n",
    "\n",
    "# Replace the missing values with the imputed values\n",
    "data_missing[missing_columns] = imputed_values\n",
    "\n",
    "# Merge the two parts of the dataset back together\n",
    "data_imputed = pd.concat([data_missing, data_not_missing])\n"
   ]
  },
  {
   "cell_type": "code",
   "execution_count": null,
   "id": "9375b8d3",
   "metadata": {},
   "outputs": [],
   "source": []
  }
 ],
 "metadata": {
  "kernelspec": {
   "display_name": "Python 3 (ipykernel)",
   "language": "python",
   "name": "python3"
  },
  "language_info": {
   "codemirror_mode": {
    "name": "ipython",
    "version": 3
   },
   "file_extension": ".py",
   "mimetype": "text/x-python",
   "name": "python",
   "nbconvert_exporter": "python",
   "pygments_lexer": "ipython3",
   "version": "3.9.13"
  }
 },
 "nbformat": 4,
 "nbformat_minor": 5
}
